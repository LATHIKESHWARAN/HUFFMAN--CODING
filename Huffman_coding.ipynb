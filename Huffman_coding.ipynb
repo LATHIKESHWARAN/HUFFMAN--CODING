{
 "cells": [
  {
   "cell_type": "code",
   "execution_count": 4,
   "id": "f9214d07-cda0-4c95-a64e-1e5f8e4d7773",
   "metadata": {},
   "outputs": [],
   "source": [
    "string = 'DIGITAL IMAGE'\n",
    "class NodeTree(object):\n",
    "    def __init__(self, left=None, right=None): \n",
    "        self.left = left\n",
    "        self.right=right\n",
    "    def children(self):\n",
    "        return (self.left,self.right)\n",
    "    def nodes (self):\n",
    "        return (self.left,self.right)\n",
    "    def __str__(self):\n",
    "        return '%s %s' %(self.left,self.right)"
   ]
  },
  {
   "cell_type": "code",
   "execution_count": 5,
   "id": "730c2944-d977-4025-a61f-77cc9a9c98de",
   "metadata": {},
   "outputs": [],
   "source": [
    "def huffman_code_tree (node, left=True, binString=''):\n",
    "    if type(node) is str:\n",
    "        return {node: binString}\n",
    "    (l, r) = node.children()\n",
    "    d = dict()\n",
    "    d.update(huffman_code_tree (l, True, binString + '0'))\n",
    "    d.update(huffman_code_tree (r, False, binString + '1'))\n",
    "    return d"
   ]
  },
  {
   "cell_type": "code",
   "execution_count": 6,
   "id": "bf2a180d-b0a3-441c-846b-71ada7655475",
   "metadata": {},
   "outputs": [],
   "source": [
    "freq = {}\n",
    "for c in string:\n",
    "    if c in freq:\n",
    "        freq[c] += 1\n",
    "    else:\n",
    "        freq[c] = 1\n",
    "freq = sorted(freq.items(), key=lambda x: x[1], reverse=True)\n",
    "nodes=freq"
   ]
  },
  {
   "cell_type": "code",
   "execution_count": 7,
   "id": "aeb3b100-6150-4616-a1d8-7213dadebb21",
   "metadata": {},
   "outputs": [],
   "source": [
    "while len(nodes)>1:\n",
    "    (key1,c1)=nodes[-1]\n",
    "    (key2,c2)=nodes[-2]\n",
    "    nodes = nodes[:-2]\n",
    "    node = NodeTree (key1, key2)\n",
    "    nodes.append((node,c1 + c2))\n",
    "    nodes = sorted (nodes, key=lambda x: x[1], reverse=True)"
   ]
  },
  {
   "cell_type": "code",
   "execution_count": 8,
   "id": "eec129c7-6deb-4163-bc7b-12ea0c73dea4",
   "metadata": {},
   "outputs": [
    {
     "name": "stdout",
     "output_type": "stream",
     "text": [
      " Char | Huffman code \n",
      "----------------------\n",
      "'I' |          01\n",
      "'G' |          00\n",
      "'A' |         101\n",
      "'D' |        1101\n",
      "'T' |        1100\n",
      "'L' |        1111\n",
      "' ' |        1110\n",
      "'M' |        1001\n",
      "'E' |        1000\n"
     ]
    }
   ],
   "source": [
    "huffmanCode=huffman_code_tree(nodes[0][0])\n",
    "print(' Char | Huffman code ') \n",
    "print('----------------------')\n",
    "for (char, frequency) in freq:\n",
    "    print('%-4r|%12s'%(char,huffmanCode[char]))\n"
   ]
  },
  {
   "cell_type": "code",
   "execution_count": null,
   "id": "edeb421c-6c3c-4497-ac7a-e5f4d2c9d9b0",
   "metadata": {},
   "outputs": [],
   "source": []
  }
 ],
 "metadata": {
  "kernelspec": {
   "display_name": "Python 3 (ipykernel)",
   "language": "python",
   "name": "python3"
  },
  "language_info": {
   "codemirror_mode": {
    "name": "ipython",
    "version": 3
   },
   "file_extension": ".py",
   "mimetype": "text/x-python",
   "name": "python",
   "nbconvert_exporter": "python",
   "pygments_lexer": "ipython3",
   "version": "3.10.9"
  }
 },
 "nbformat": 4,
 "nbformat_minor": 5
}
